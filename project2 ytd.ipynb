{
 "cells": [
  {
   "cell_type": "code",
   "execution_count": 1,
   "metadata": {},
   "outputs": [],
   "source": [
    "from pytube import YouTube\n",
    "from tkinter import *\n",
    "root=Tk()\n",
    "root.geometry('800x400')\n",
    "root.title('Youtube  Downloader')\n",
    "Label_1=Label(root,text=\"Youtube Link \", font=(\"bold\",30))\n",
    "Label_1.place(x=220,y=20)\n",
    "var=StringVar()\n",
    "link=Entry(root, width=60, textvariable=var)\n",
    "link.place(x=140, y=80)\n",
    "def downloadvideo():\n",
    "    x=str(var.get())\n",
    "    ytvideo=YouTube(x).streams.filter(progressive=True, file_extension='mp4').order_by('resolution').desc().first()\n",
    "    ytvideo.download() \n",
    "Button(root,text=\"downloadvideo\", width=20, bg='green',fg=\"white\", command=downloadvideo).place(x=220, y=110)\n",
    "root.mainloop()"
   ]
  },
  {
   "cell_type": "code",
   "execution_count": null,
   "metadata": {},
   "outputs": [],
   "source": []
  },
  {
   "cell_type": "code",
   "execution_count": null,
   "metadata": {},
   "outputs": [],
   "source": []
  }
 ],
 "metadata": {
  "kernelspec": {
   "display_name": "Python 3",
   "language": "python",
   "name": "python3"
  },
  "language_info": {
   "codemirror_mode": {
    "name": "ipython",
    "version": 3
   },
   "file_extension": ".py",
   "mimetype": "text/x-python",
   "name": "python",
   "nbconvert_exporter": "python",
   "pygments_lexer": "ipython3",
   "version": "3.8.5"
  }
 },
 "nbformat": 4,
 "nbformat_minor": 4
}
