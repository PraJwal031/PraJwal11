{
 "cells": [
  {
   "cell_type": "code",
   "execution_count": 24,
   "metadata": {},
   "outputs": [
    {
     "name": "stderr",
     "output_type": "stream",
     "text": [
      "Exception in Tkinter callback\n",
      "Traceback (most recent call last):\n",
      "  File \"C:\\Users\\prajwal\\anaconda3\\lib\\tkinter\\__init__.py\", line 1883, in __call__\n",
      "    return self.func(*args)\n",
      "  File \"<ipython-input-24-8bcea9bdc1ca>\", line 14, in downloadvideo\n",
      "    ytvideo.download()\n",
      "AttributeError: 'NoneType' object has no attribute 'download'\n"
     ]
    }
   ],
   "source": [
    "from pytube import YouTube\n",
    "from tkinter import *\n",
    "root=Tk()\n",
    "root.geometry('800x400')\n",
    "root.title('Youtube  Downloader')\n",
    "Label_1=Label(root,text=\"Youtube Link \", font=(\"bold\",30))\n",
    "Label_1.place(x=220,y=20)\n",
    "var=StringVar()\n",
    "link=Entry(root, width=60, textvariable=var)\n",
    "link.place(x=140, y=80)\n",
    "def downloadvideo():\n",
    "    x=str(var.get())\n",
    "    ytvideo=YouTube(x).streams.filter(progressive=True, file_extension='mp4').order_by('resolution').desc().first()\n",
    "    ytvideo.download() \n",
    "Button(root,text=\"downloadvideo\", width=20, bg='green',fg=\"white\", command=downloadvideo).place(x=220, y=110)\n",
    "root.mainloop()"
   ]
  },
  {
   "cell_type": "code",
   "execution_count": null,
   "metadata": {},
   "outputs": [],
   "source": []
  },
  {
   "cell_type": "code",
   "execution_count": null,
   "metadata": {},
   "outputs": [],
   "source": []
  }
 ],
 "metadata": {
  "kernelspec": {
   "display_name": "Python 3",
   "language": "python",
   "name": "python3"
  },
  "language_info": {
   "codemirror_mode": {
    "name": "ipython",
    "version": 3
   },
   "file_extension": ".py",
   "mimetype": "text/x-python",
   "name": "python",
   "nbconvert_exporter": "python",
   "pygments_lexer": "ipython3",
   "version": "3.8.5"
  }
 },
 "nbformat": 4,
 "nbformat_minor": 4
}
